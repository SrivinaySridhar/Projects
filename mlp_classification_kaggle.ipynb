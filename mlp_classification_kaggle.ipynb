{
 "cells": [
  {
   "cell_type": "markdown",
   "id": "a0305799",
   "metadata": {},
   "source": [
    "# Students Enrolment Status \n",
    "Link to competition: https://www.kaggle.com/competitions/students-drop-out-prediction/overview\n",
    "\n",
    "### Description\n",
    "The monitoring and support of university students are considered very important at many educational institutions. In this competition, the problem is formulated as a three-category classification task (dropout, enrolled, and graduate) and the classes are coded as 0,1 and 2 in the dataset.\n",
    "\n",
    "Here is a handy link to Kaggle's competition documentation, which includes, among other things, instructions on submitting predictions.\n",
    "\n",
    "### Evaluation\n",
    "The evaluation metric for this competition is [Mean F1-Score](https://en.wikipedia.org/wiki/F-score). The F1 score, commonly used in information retrieval, measures accuracy using the statistics precision and recall. Precision is the ratio of true positives to all predicted positives. Recall is the ratio of true positives to all actual positives. The F1 metric weights recall and precision equally, and a good retrieval algorithm will maximize both precision and recall simultaneously. Thus, moderately good performance on both will be favored over extremely good performance on one and poor performance on the other. ## Submission Format **For every author in the dataset**, submission files should contain two columns: `id` and `label`. The file should contain a header and have the following format: ``` id,label 0,1 1,0 2,1 ```\n",
    "\n"
   ]
  },
  {
   "cell_type": "markdown",
   "id": "928c6f51",
   "metadata": {},
   "source": [
    "## Load the Data"
   ]
  },
  {
   "cell_type": "code",
   "execution_count": 1,
   "id": "97fae387",
   "metadata": {
    "_cell_guid": "b1076dfc-b9ad-4769-8c92-a6c4dae69d19",
    "_uuid": "8f2839f25d086af736a60e9eeb907d3b93b6e0e5",
    "execution": {
     "iopub.execute_input": "2022-08-26T09:19:47.296934Z",
     "iopub.status.busy": "2022-08-26T09:19:47.296236Z",
     "iopub.status.idle": "2022-08-26T09:19:48.673172Z",
     "shell.execute_reply": "2022-08-26T09:19:48.671690Z"
    },
    "papermill": {
     "duration": 1.390178,
     "end_time": "2022-08-26T09:19:48.676244",
     "exception": false,
     "start_time": "2022-08-26T09:19:47.286066",
     "status": "completed"
    },
    "tags": []
   },
   "outputs": [
    {
     "name": "stdout",
     "output_type": "stream",
     "text": [
      "/kaggle/input/students-drop-out-prediction/train.csv\n",
      "/kaggle/input/students-drop-out-prediction/test.csv\n"
     ]
    }
   ],
   "source": [
    "# This Python 3 environment comes with many helpful analytics libraries installed\n",
    "# It is defined by the kaggle/python Docker image: https://github.com/kaggle/docker-python\n",
    "# For example, here's several helpful packages to load\n",
    "\n",
    "import numpy as np # linear algebra\n",
    "import pandas as pd # data processing, CSV file I/O (e.g. pd.read_csv)\n",
    "import seaborn as sns\n",
    "import matplotlib.pyplot as plt\n",
    "\n",
    "%matplotlib inline \n",
    "\n",
    "from sklearn.model_selection import train_test_split\n",
    "from sklearn.utils.multiclass import type_of_target\n",
    "from sklearn.preprocessing import StandardScaler\n",
    "from sklearn.linear_model import LogisticRegression\n",
    "from sklearn.dummy import DummyClassifier\n",
    "from sklearn.metrics import classification_report, confusion_matrix\n",
    "\n",
    "\n",
    "# Input data files are available in the read-only \"../input/\" directory\n",
    "# For example, running this (by clicking run or pressing Shift+Enter) will list all files under the input directory\n",
    "\n",
    "import os\n",
    "for dirname, _, filenames in os.walk('/kaggle/input'):\n",
    "    for filename in filenames:\n",
    "        print(os.path.join(dirname, filename))\n",
    "\n",
    "# You can write up to 20GB to the current directory (/kaggle/working/) that gets preserved as output when you create a version using \"Save & Run All\" \n",
    "# You can also write temporary files to /kaggle/temp/, but they won't be saved outside of the current session"
   ]
  },
  {
   "cell_type": "markdown",
   "id": "132566d4",
   "metadata": {},
   "source": [
    "### Read into Dataframe"
   ]
  },
  {
   "cell_type": "code",
   "execution_count": 2,
   "id": "14698245",
   "metadata": {
    "execution": {
     "iopub.execute_input": "2022-08-26T09:19:48.693345Z",
     "iopub.status.busy": "2022-08-26T09:19:48.692895Z",
     "iopub.status.idle": "2022-08-26T09:19:48.763498Z",
     "shell.execute_reply": "2022-08-26T09:19:48.762178Z"
    },
    "papermill": {
     "duration": 0.081943,
     "end_time": "2022-08-26T09:19:48.766192",
     "exception": false,
     "start_time": "2022-08-26T09:19:48.684249",
     "status": "completed"
    },
    "tags": []
   },
   "outputs": [
    {
     "data": {
      "text/html": [
       "<div>\n",
       "<style scoped>\n",
       "    .dataframe tbody tr th:only-of-type {\n",
       "        vertical-align: middle;\n",
       "    }\n",
       "\n",
       "    .dataframe tbody tr th {\n",
       "        vertical-align: top;\n",
       "    }\n",
       "\n",
       "    .dataframe thead th {\n",
       "        text-align: right;\n",
       "    }\n",
       "</style>\n",
       "<table border=\"1\" class=\"dataframe\">\n",
       "  <thead>\n",
       "    <tr style=\"text-align: right;\">\n",
       "      <th></th>\n",
       "      <th>id</th>\n",
       "      <th>v_21</th>\n",
       "      <th>v_32</th>\n",
       "      <th>v_15</th>\n",
       "      <th>v_4</th>\n",
       "      <th>v_1</th>\n",
       "      <th>v_8</th>\n",
       "      <th>v_12</th>\n",
       "      <th>v_25</th>\n",
       "      <th>v_20</th>\n",
       "      <th>...</th>\n",
       "      <th>v_2</th>\n",
       "      <th>v_16</th>\n",
       "      <th>v_34</th>\n",
       "      <th>v_35</th>\n",
       "      <th>v_36</th>\n",
       "      <th>v_37</th>\n",
       "      <th>v_38</th>\n",
       "      <th>v_39</th>\n",
       "      <th>v_40</th>\n",
       "      <th>label</th>\n",
       "    </tr>\n",
       "  </thead>\n",
       "  <tbody>\n",
       "    <tr>\n",
       "      <th>0</th>\n",
       "      <td>0</td>\n",
       "      <td>3</td>\n",
       "      <td>6</td>\n",
       "      <td>11</td>\n",
       "      <td>55</td>\n",
       "      <td>1</td>\n",
       "      <td>1</td>\n",
       "      <td>16</td>\n",
       "      <td>5</td>\n",
       "      <td>60</td>\n",
       "      <td>...</td>\n",
       "      <td>-0.3</td>\n",
       "      <td>0.79</td>\n",
       "      <td>1</td>\n",
       "      <td>93</td>\n",
       "      <td>47</td>\n",
       "      <td>1</td>\n",
       "      <td>48</td>\n",
       "      <td>26</td>\n",
       "      <td>0</td>\n",
       "      <td>1</td>\n",
       "    </tr>\n",
       "    <tr>\n",
       "      <th>1</th>\n",
       "      <td>1</td>\n",
       "      <td>8</td>\n",
       "      <td>94</td>\n",
       "      <td>12</td>\n",
       "      <td>65</td>\n",
       "      <td>1</td>\n",
       "      <td>4</td>\n",
       "      <td>22</td>\n",
       "      <td>4</td>\n",
       "      <td>173</td>\n",
       "      <td>...</td>\n",
       "      <td>5.4</td>\n",
       "      <td>6.51</td>\n",
       "      <td>6</td>\n",
       "      <td>29</td>\n",
       "      <td>37</td>\n",
       "      <td>25</td>\n",
       "      <td>53</td>\n",
       "      <td>35</td>\n",
       "      <td>7</td>\n",
       "      <td>2</td>\n",
       "    </tr>\n",
       "    <tr>\n",
       "      <th>2</th>\n",
       "      <td>2</td>\n",
       "      <td>3</td>\n",
       "      <td>166</td>\n",
       "      <td>10</td>\n",
       "      <td>155</td>\n",
       "      <td>1</td>\n",
       "      <td>1</td>\n",
       "      <td>16</td>\n",
       "      <td>1</td>\n",
       "      <td>309</td>\n",
       "      <td>...</td>\n",
       "      <td>0.6</td>\n",
       "      <td>2.02</td>\n",
       "      <td>1</td>\n",
       "      <td>8</td>\n",
       "      <td>34</td>\n",
       "      <td>4</td>\n",
       "      <td>43</td>\n",
       "      <td>38</td>\n",
       "      <td>2</td>\n",
       "      <td>1</td>\n",
       "    </tr>\n",
       "    <tr>\n",
       "      <th>3</th>\n",
       "      <td>3</td>\n",
       "      <td>3</td>\n",
       "      <td>6</td>\n",
       "      <td>13</td>\n",
       "      <td>121</td>\n",
       "      <td>1</td>\n",
       "      <td>1</td>\n",
       "      <td>16</td>\n",
       "      <td>1</td>\n",
       "      <td>6</td>\n",
       "      <td>...</td>\n",
       "      <td>0.6</td>\n",
       "      <td>2.02</td>\n",
       "      <td>7</td>\n",
       "      <td>37</td>\n",
       "      <td>40</td>\n",
       "      <td>27</td>\n",
       "      <td>43</td>\n",
       "      <td>65</td>\n",
       "      <td>0</td>\n",
       "      <td>1</td>\n",
       "    </tr>\n",
       "    <tr>\n",
       "      <th>4</th>\n",
       "      <td>4</td>\n",
       "      <td>4</td>\n",
       "      <td>51</td>\n",
       "      <td>18</td>\n",
       "      <td>21</td>\n",
       "      <td>1</td>\n",
       "      <td>17</td>\n",
       "      <td>22</td>\n",
       "      <td>118</td>\n",
       "      <td>168</td>\n",
       "      <td>...</td>\n",
       "      <td>8.4</td>\n",
       "      <td>12.51</td>\n",
       "      <td>16</td>\n",
       "      <td>22</td>\n",
       "      <td>25</td>\n",
       "      <td>25</td>\n",
       "      <td>24</td>\n",
       "      <td>23</td>\n",
       "      <td>1</td>\n",
       "      <td>1</td>\n",
       "    </tr>\n",
       "  </tbody>\n",
       "</table>\n",
       "<p>5 rows × 43 columns</p>\n",
       "</div>"
      ],
      "text/plain": [
       "   id  v_21  v_32  v_15  v_4  v_1  v_8  v_12  v_25  v_20  ...  v_2   v_16  \\\n",
       "0   0     3     6    11   55    1    1    16     5    60  ... -0.3   0.79   \n",
       "1   1     8    94    12   65    1    4    22     4   173  ...  5.4   6.51   \n",
       "2   2     3   166    10  155    1    1    16     1   309  ...  0.6   2.02   \n",
       "3   3     3     6    13  121    1    1    16     1     6  ...  0.6   2.02   \n",
       "4   4     4    51    18   21    1   17    22   118   168  ...  8.4  12.51   \n",
       "\n",
       "   v_34  v_35  v_36  v_37  v_38  v_39  v_40  label  \n",
       "0     1    93    47     1    48    26     0      1  \n",
       "1     6    29    37    25    53    35     7      2  \n",
       "2     1     8    34     4    43    38     2      1  \n",
       "3     7    37    40    27    43    65     0      1  \n",
       "4    16    22    25    25    24    23     1      1  \n",
       "\n",
       "[5 rows x 43 columns]"
      ]
     },
     "execution_count": 2,
     "metadata": {},
     "output_type": "execute_result"
    }
   ],
   "source": [
    "df = pd.read_csv(\"/kaggle/input/students-drop-out-prediction/train.csv\")\n",
    "df.head()"
   ]
  },
  {
   "cell_type": "markdown",
   "id": "8918764d",
   "metadata": {},
   "source": [
    "## EDA"
   ]
  },
  {
   "cell_type": "code",
   "execution_count": 3,
   "id": "b31250f7",
   "metadata": {
    "execution": {
     "iopub.execute_input": "2022-08-26T09:19:48.783183Z",
     "iopub.status.busy": "2022-08-26T09:19:48.782776Z",
     "iopub.status.idle": "2022-08-26T09:19:48.812361Z",
     "shell.execute_reply": "2022-08-26T09:19:48.810173Z"
    },
    "papermill": {
     "duration": 0.04112,
     "end_time": "2022-08-26T09:19:48.815195",
     "exception": false,
     "start_time": "2022-08-26T09:19:48.774075",
     "status": "completed"
    },
    "tags": []
   },
   "outputs": [
    {
     "name": "stdout",
     "output_type": "stream",
     "text": [
      "<class 'pandas.core.frame.DataFrame'>\n",
      "RangeIndex: 3796 entries, 0 to 3795\n",
      "Data columns (total 43 columns):\n",
      " #   Column  Non-Null Count  Dtype  \n",
      "---  ------  --------------  -----  \n",
      " 0   id      3796 non-null   int64  \n",
      " 1   v_21    3796 non-null   int64  \n",
      " 2   v_32    3796 non-null   int64  \n",
      " 3   v_15    3796 non-null   int64  \n",
      " 4   v_4     3796 non-null   int64  \n",
      " 5   v_1     3796 non-null   int64  \n",
      " 6   v_8     3796 non-null   int64  \n",
      " 7   v_12    3796 non-null   int64  \n",
      " 8   v_25    3796 non-null   int64  \n",
      " 9   v_20    3796 non-null   int64  \n",
      " 10  v_18    3796 non-null   int64  \n",
      " 11  v_3     3796 non-null   int64  \n",
      " 12  v_11    3796 non-null   int64  \n",
      " 13  v_14    3796 non-null   int64  \n",
      " 14  v_26    3796 non-null   int64  \n",
      " 15  v_27    3796 non-null   int64  \n",
      " 16  v_30    3796 non-null   int64  \n",
      " 17  v_9     3796 non-null   int64  \n",
      " 18  v_31    3796 non-null   int64  \n",
      " 19  v_28    3796 non-null   int64  \n",
      " 20  v_13    3796 non-null   int64  \n",
      " 21  v_33    3796 non-null   int64  \n",
      " 22  v_17    3796 non-null   int64  \n",
      " 23  v_19    3796 non-null   int64  \n",
      " 24  v_29    3796 non-null   int64  \n",
      " 25  v_23    3796 non-null   int64  \n",
      " 26  v_24    3796 non-null   int64  \n",
      " 27  v_10    3796 non-null   int64  \n",
      " 28  v_5     3796 non-null   int64  \n",
      " 29  v_6     3796 non-null   int64  \n",
      " 30  v_22    3796 non-null   int64  \n",
      " 31  v_0     3796 non-null   int64  \n",
      " 32  v_7     3796 non-null   float64\n",
      " 33  v_2     3796 non-null   float64\n",
      " 34  v_16    3796 non-null   float64\n",
      " 35  v_34    3796 non-null   int64  \n",
      " 36  v_35    3796 non-null   int64  \n",
      " 37  v_36    3796 non-null   int64  \n",
      " 38  v_37    3796 non-null   int64  \n",
      " 39  v_38    3796 non-null   int64  \n",
      " 40  v_39    3796 non-null   int64  \n",
      " 41  v_40    3796 non-null   int64  \n",
      " 42  label   3796 non-null   int64  \n",
      "dtypes: float64(3), int64(40)\n",
      "memory usage: 1.2 MB\n"
     ]
    }
   ],
   "source": [
    "df.info()"
   ]
  },
  {
   "cell_type": "code",
   "execution_count": 4,
   "id": "9ea93f6f",
   "metadata": {
    "execution": {
     "iopub.execute_input": "2022-08-26T09:19:48.832034Z",
     "iopub.status.busy": "2022-08-26T09:19:48.831464Z",
     "iopub.status.idle": "2022-08-26T09:19:48.963770Z",
     "shell.execute_reply": "2022-08-26T09:19:48.962507Z"
    },
    "papermill": {
     "duration": 0.144307,
     "end_time": "2022-08-26T09:19:48.967101",
     "exception": false,
     "start_time": "2022-08-26T09:19:48.822794",
     "status": "completed"
    },
    "tags": []
   },
   "outputs": [
    {
     "data": {
      "text/html": [
       "<div>\n",
       "<style scoped>\n",
       "    .dataframe tbody tr th:only-of-type {\n",
       "        vertical-align: middle;\n",
       "    }\n",
       "\n",
       "    .dataframe tbody tr th {\n",
       "        vertical-align: top;\n",
       "    }\n",
       "\n",
       "    .dataframe thead th {\n",
       "        text-align: right;\n",
       "    }\n",
       "</style>\n",
       "<table border=\"1\" class=\"dataframe\">\n",
       "  <thead>\n",
       "    <tr style=\"text-align: right;\">\n",
       "      <th></th>\n",
       "      <th>count</th>\n",
       "      <th>mean</th>\n",
       "      <th>std</th>\n",
       "      <th>min</th>\n",
       "      <th>25%</th>\n",
       "      <th>50%</th>\n",
       "      <th>75%</th>\n",
       "      <th>max</th>\n",
       "    </tr>\n",
       "  </thead>\n",
       "  <tbody>\n",
       "    <tr>\n",
       "      <th>id</th>\n",
       "      <td>3796.0</td>\n",
       "      <td>1897.500000</td>\n",
       "      <td>1095.955139</td>\n",
       "      <td>0.00</td>\n",
       "      <td>948.75</td>\n",
       "      <td>1897.50</td>\n",
       "      <td>2846.25</td>\n",
       "      <td>3795.00</td>\n",
       "    </tr>\n",
       "    <tr>\n",
       "      <th>v_21</th>\n",
       "      <td>3796.0</td>\n",
       "      <td>4.817439</td>\n",
       "      <td>6.166860</td>\n",
       "      <td>3.00</td>\n",
       "      <td>3.00</td>\n",
       "      <td>3.00</td>\n",
       "      <td>4.00</td>\n",
       "      <td>61.00</td>\n",
       "    </tr>\n",
       "    <tr>\n",
       "      <th>v_32</th>\n",
       "      <td>3796.0</td>\n",
       "      <td>70.825606</td>\n",
       "      <td>56.110329</td>\n",
       "      <td>6.00</td>\n",
       "      <td>6.00</td>\n",
       "      <td>89.00</td>\n",
       "      <td>116.00</td>\n",
       "      <td>176.00</td>\n",
       "    </tr>\n",
       "    <tr>\n",
       "      <th>v_15</th>\n",
       "      <td>3796.0</td>\n",
       "      <td>11.609062</td>\n",
       "      <td>2.576362</td>\n",
       "      <td>9.00</td>\n",
       "      <td>10.00</td>\n",
       "      <td>10.00</td>\n",
       "      <td>12.00</td>\n",
       "      <td>25.00</td>\n",
       "    </tr>\n",
       "    <tr>\n",
       "      <th>v_4</th>\n",
       "      <td>3796.0</td>\n",
       "      <td>99.329294</td>\n",
       "      <td>45.017380</td>\n",
       "      <td>9.00</td>\n",
       "      <td>55.00</td>\n",
       "      <td>101.00</td>\n",
       "      <td>146.00</td>\n",
       "      <td>176.00</td>\n",
       "    </tr>\n",
       "    <tr>\n",
       "      <th>v_1</th>\n",
       "      <td>3796.0</td>\n",
       "      <td>0.911486</td>\n",
       "      <td>0.284079</td>\n",
       "      <td>0.00</td>\n",
       "      <td>1.00</td>\n",
       "      <td>1.00</td>\n",
       "      <td>1.00</td>\n",
       "      <td>1.00</td>\n",
       "    </tr>\n",
       "    <tr>\n",
       "      <th>v_8</th>\n",
       "      <td>3796.0</td>\n",
       "      <td>3.436249</td>\n",
       "      <td>4.577644</td>\n",
       "      <td>1.00</td>\n",
       "      <td>1.00</td>\n",
       "      <td>1.00</td>\n",
       "      <td>3.00</td>\n",
       "      <td>25.00</td>\n",
       "    </tr>\n",
       "    <tr>\n",
       "      <th>v_12</th>\n",
       "      <td>3796.0</td>\n",
       "      <td>18.970495</td>\n",
       "      <td>15.010042</td>\n",
       "      <td>16.00</td>\n",
       "      <td>16.00</td>\n",
       "      <td>16.00</td>\n",
       "      <td>16.00</td>\n",
       "      <td>179.00</td>\n",
       "    </tr>\n",
       "    <tr>\n",
       "      <th>v_25</th>\n",
       "      <td>3796.0</td>\n",
       "      <td>97.203372</td>\n",
       "      <td>79.213308</td>\n",
       "      <td>1.00</td>\n",
       "      <td>5.00</td>\n",
       "      <td>110.00</td>\n",
       "      <td>181.00</td>\n",
       "      <td>289.00</td>\n",
       "    </tr>\n",
       "    <tr>\n",
       "      <th>v_20</th>\n",
       "      <td>3796.0</td>\n",
       "      <td>166.138567</td>\n",
       "      <td>103.121322</td>\n",
       "      <td>6.00</td>\n",
       "      <td>60.00</td>\n",
       "      <td>168.00</td>\n",
       "      <td>251.00</td>\n",
       "      <td>322.00</td>\n",
       "    </tr>\n",
       "    <tr>\n",
       "      <th>v_18</th>\n",
       "      <td>3796.0</td>\n",
       "      <td>57.441254</td>\n",
       "      <td>50.416264</td>\n",
       "      <td>3.00</td>\n",
       "      <td>23.00</td>\n",
       "      <td>30.00</td>\n",
       "      <td>103.00</td>\n",
       "      <td>324.00</td>\n",
       "    </tr>\n",
       "    <tr>\n",
       "      <th>v_3</th>\n",
       "      <td>3796.0</td>\n",
       "      <td>65.922023</td>\n",
       "      <td>43.698147</td>\n",
       "      <td>5.00</td>\n",
       "      <td>39.00</td>\n",
       "      <td>70.00</td>\n",
       "      <td>87.00</td>\n",
       "      <td>428.00</td>\n",
       "    </tr>\n",
       "    <tr>\n",
       "      <th>v_11</th>\n",
       "      <td>3796.0</td>\n",
       "      <td>0.466280</td>\n",
       "      <td>0.498927</td>\n",
       "      <td>0.00</td>\n",
       "      <td>0.00</td>\n",
       "      <td>0.00</td>\n",
       "      <td>1.00</td>\n",
       "      <td>1.00</td>\n",
       "    </tr>\n",
       "    <tr>\n",
       "      <th>v_14</th>\n",
       "      <td>3796.0</td>\n",
       "      <td>0.179399</td>\n",
       "      <td>0.383737</td>\n",
       "      <td>0.00</td>\n",
       "      <td>0.00</td>\n",
       "      <td>0.00</td>\n",
       "      <td>0.00</td>\n",
       "      <td>1.00</td>\n",
       "    </tr>\n",
       "    <tr>\n",
       "      <th>v_26</th>\n",
       "      <td>3796.0</td>\n",
       "      <td>0.262118</td>\n",
       "      <td>0.439844</td>\n",
       "      <td>0.00</td>\n",
       "      <td>0.00</td>\n",
       "      <td>0.00</td>\n",
       "      <td>1.00</td>\n",
       "      <td>1.00</td>\n",
       "    </tr>\n",
       "    <tr>\n",
       "      <th>v_27</th>\n",
       "      <td>3796.0</td>\n",
       "      <td>0.731560</td>\n",
       "      <td>0.443206</td>\n",
       "      <td>0.00</td>\n",
       "      <td>0.00</td>\n",
       "      <td>1.00</td>\n",
       "      <td>1.00</td>\n",
       "      <td>1.00</td>\n",
       "    </tr>\n",
       "    <tr>\n",
       "      <th>v_30</th>\n",
       "      <td>3796.0</td>\n",
       "      <td>0.463646</td>\n",
       "      <td>0.498742</td>\n",
       "      <td>0.00</td>\n",
       "      <td>0.00</td>\n",
       "      <td>0.00</td>\n",
       "      <td>1.00</td>\n",
       "      <td>1.00</td>\n",
       "    </tr>\n",
       "    <tr>\n",
       "      <th>v_9</th>\n",
       "      <td>3796.0</td>\n",
       "      <td>0.374605</td>\n",
       "      <td>0.484084</td>\n",
       "      <td>0.00</td>\n",
       "      <td>0.00</td>\n",
       "      <td>0.00</td>\n",
       "      <td>1.00</td>\n",
       "      <td>1.00</td>\n",
       "    </tr>\n",
       "    <tr>\n",
       "      <th>v_31</th>\n",
       "      <td>3796.0</td>\n",
       "      <td>32.134089</td>\n",
       "      <td>7.887596</td>\n",
       "      <td>25.00</td>\n",
       "      <td>27.00</td>\n",
       "      <td>29.00</td>\n",
       "      <td>35.00</td>\n",
       "      <td>78.00</td>\n",
       "    </tr>\n",
       "    <tr>\n",
       "      <th>v_28</th>\n",
       "      <td>3796.0</td>\n",
       "      <td>0.040569</td>\n",
       "      <td>0.197316</td>\n",
       "      <td>0.00</td>\n",
       "      <td>0.00</td>\n",
       "      <td>0.00</td>\n",
       "      <td>0.00</td>\n",
       "      <td>1.00</td>\n",
       "    </tr>\n",
       "    <tr>\n",
       "      <th>v_13</th>\n",
       "      <td>3796.0</td>\n",
       "      <td>15.600896</td>\n",
       "      <td>3.216409</td>\n",
       "      <td>14.00</td>\n",
       "      <td>14.00</td>\n",
       "      <td>14.00</td>\n",
       "      <td>16.00</td>\n",
       "      <td>38.00</td>\n",
       "    </tr>\n",
       "    <tr>\n",
       "      <th>v_33</th>\n",
       "      <td>3796.0</td>\n",
       "      <td>30.127239</td>\n",
       "      <td>3.256676</td>\n",
       "      <td>23.00</td>\n",
       "      <td>29.00</td>\n",
       "      <td>29.00</td>\n",
       "      <td>31.00</td>\n",
       "      <td>49.00</td>\n",
       "    </tr>\n",
       "    <tr>\n",
       "      <th>v_17</th>\n",
       "      <td>3796.0</td>\n",
       "      <td>50.165701</td>\n",
       "      <td>4.670733</td>\n",
       "      <td>41.00</td>\n",
       "      <td>48.00</td>\n",
       "      <td>49.00</td>\n",
       "      <td>53.00</td>\n",
       "      <td>86.00</td>\n",
       "    </tr>\n",
       "    <tr>\n",
       "      <th>v_19</th>\n",
       "      <td>3796.0</td>\n",
       "      <td>23.562171</td>\n",
       "      <td>3.757691</td>\n",
       "      <td>18.00</td>\n",
       "      <td>22.00</td>\n",
       "      <td>24.00</td>\n",
       "      <td>25.00</td>\n",
       "      <td>45.00</td>\n",
       "    </tr>\n",
       "    <tr>\n",
       "      <th>v_29</th>\n",
       "      <td>3796.0</td>\n",
       "      <td>17.162803</td>\n",
       "      <td>5.213275</td>\n",
       "      <td>6.00</td>\n",
       "      <td>17.00</td>\n",
       "      <td>18.00</td>\n",
       "      <td>20.00</td>\n",
       "      <td>31.00</td>\n",
       "    </tr>\n",
       "    <tr>\n",
       "      <th>v_23</th>\n",
       "      <td>3796.0</td>\n",
       "      <td>3.975764</td>\n",
       "      <td>2.249038</td>\n",
       "      <td>3.00</td>\n",
       "      <td>3.00</td>\n",
       "      <td>3.00</td>\n",
       "      <td>3.00</td>\n",
       "      <td>17.00</td>\n",
       "    </tr>\n",
       "    <tr>\n",
       "      <th>v_24</th>\n",
       "      <td>3796.0</td>\n",
       "      <td>16.392255</td>\n",
       "      <td>2.866872</td>\n",
       "      <td>15.00</td>\n",
       "      <td>15.00</td>\n",
       "      <td>15.00</td>\n",
       "      <td>16.00</td>\n",
       "      <td>37.00</td>\n",
       "    </tr>\n",
       "    <tr>\n",
       "      <th>v_10</th>\n",
       "      <td>3796.0</td>\n",
       "      <td>26.064015</td>\n",
       "      <td>3.079682</td>\n",
       "      <td>19.00</td>\n",
       "      <td>25.00</td>\n",
       "      <td>25.00</td>\n",
       "      <td>27.00</td>\n",
       "      <td>42.00</td>\n",
       "    </tr>\n",
       "    <tr>\n",
       "      <th>v_5</th>\n",
       "      <td>3796.0</td>\n",
       "      <td>39.934932</td>\n",
       "      <td>4.507494</td>\n",
       "      <td>31.00</td>\n",
       "      <td>37.00</td>\n",
       "      <td>39.00</td>\n",
       "      <td>42.00</td>\n",
       "      <td>64.00</td>\n",
       "    </tr>\n",
       "    <tr>\n",
       "      <th>v_6</th>\n",
       "      <td>3796.0</td>\n",
       "      <td>13.281876</td>\n",
       "      <td>3.674661</td>\n",
       "      <td>8.00</td>\n",
       "      <td>11.00</td>\n",
       "      <td>13.00</td>\n",
       "      <td>15.00</td>\n",
       "      <td>28.00</td>\n",
       "    </tr>\n",
       "    <tr>\n",
       "      <th>v_22</th>\n",
       "      <td>3796.0</td>\n",
       "      <td>23.794521</td>\n",
       "      <td>5.532030</td>\n",
       "      <td>13.00</td>\n",
       "      <td>24.00</td>\n",
       "      <td>25.00</td>\n",
       "      <td>27.00</td>\n",
       "      <td>38.00</td>\n",
       "    </tr>\n",
       "    <tr>\n",
       "      <th>v_0</th>\n",
       "      <td>3796.0</td>\n",
       "      <td>12.998156</td>\n",
       "      <td>2.309686</td>\n",
       "      <td>12.00</td>\n",
       "      <td>12.00</td>\n",
       "      <td>12.00</td>\n",
       "      <td>12.00</td>\n",
       "      <td>26.00</td>\n",
       "    </tr>\n",
       "    <tr>\n",
       "      <th>v_7</th>\n",
       "      <td>3796.0</td>\n",
       "      <td>12.394810</td>\n",
       "      <td>3.414303</td>\n",
       "      <td>7.60</td>\n",
       "      <td>9.40</td>\n",
       "      <td>12.40</td>\n",
       "      <td>14.90</td>\n",
       "      <td>25.20</td>\n",
       "    </tr>\n",
       "    <tr>\n",
       "      <th>v_2</th>\n",
       "      <td>3796.0</td>\n",
       "      <td>2.041333</td>\n",
       "      <td>2.516779</td>\n",
       "      <td>-0.80</td>\n",
       "      <td>0.50</td>\n",
       "      <td>1.40</td>\n",
       "      <td>2.80</td>\n",
       "      <td>12.70</td>\n",
       "    </tr>\n",
       "    <tr>\n",
       "      <th>v_16</th>\n",
       "      <td>3796.0</td>\n",
       "      <td>0.835901</td>\n",
       "      <td>3.109413</td>\n",
       "      <td>-4.06</td>\n",
       "      <td>-1.70</td>\n",
       "      <td>0.79</td>\n",
       "      <td>2.02</td>\n",
       "      <td>12.51</td>\n",
       "    </tr>\n",
       "    <tr>\n",
       "      <th>v_34</th>\n",
       "      <td>3796.0</td>\n",
       "      <td>5.341149</td>\n",
       "      <td>3.507388</td>\n",
       "      <td>0.00</td>\n",
       "      <td>3.00</td>\n",
       "      <td>5.00</td>\n",
       "      <td>8.00</td>\n",
       "      <td>18.00</td>\n",
       "    </tr>\n",
       "    <tr>\n",
       "      <th>v_35</th>\n",
       "      <td>3796.0</td>\n",
       "      <td>50.674658</td>\n",
       "      <td>29.330820</td>\n",
       "      <td>0.00</td>\n",
       "      <td>25.00</td>\n",
       "      <td>50.00</td>\n",
       "      <td>76.00</td>\n",
       "      <td>107.00</td>\n",
       "    </tr>\n",
       "    <tr>\n",
       "      <th>v_36</th>\n",
       "      <td>3796.0</td>\n",
       "      <td>26.212065</td>\n",
       "      <td>14.929649</td>\n",
       "      <td>0.00</td>\n",
       "      <td>13.00</td>\n",
       "      <td>26.00</td>\n",
       "      <td>39.00</td>\n",
       "      <td>58.00</td>\n",
       "    </tr>\n",
       "    <tr>\n",
       "      <th>v_37</th>\n",
       "      <td>3796.0</td>\n",
       "      <td>20.837197</td>\n",
       "      <td>11.984063</td>\n",
       "      <td>0.00</td>\n",
       "      <td>11.00</td>\n",
       "      <td>21.00</td>\n",
       "      <td>31.00</td>\n",
       "      <td>49.00</td>\n",
       "    </tr>\n",
       "    <tr>\n",
       "      <th>v_38</th>\n",
       "      <td>3796.0</td>\n",
       "      <td>31.276607</td>\n",
       "      <td>17.847942</td>\n",
       "      <td>0.00</td>\n",
       "      <td>16.00</td>\n",
       "      <td>31.00</td>\n",
       "      <td>47.00</td>\n",
       "      <td>69.00</td>\n",
       "    </tr>\n",
       "    <tr>\n",
       "      <th>v_39</th>\n",
       "      <td>3796.0</td>\n",
       "      <td>40.210485</td>\n",
       "      <td>22.466458</td>\n",
       "      <td>0.00</td>\n",
       "      <td>21.75</td>\n",
       "      <td>41.00</td>\n",
       "      <td>59.00</td>\n",
       "      <td>87.00</td>\n",
       "    </tr>\n",
       "    <tr>\n",
       "      <th>v_40</th>\n",
       "      <td>3796.0</td>\n",
       "      <td>3.278978</td>\n",
       "      <td>2.618851</td>\n",
       "      <td>0.00</td>\n",
       "      <td>1.00</td>\n",
       "      <td>3.00</td>\n",
       "      <td>5.00</td>\n",
       "      <td>14.00</td>\n",
       "    </tr>\n",
       "    <tr>\n",
       "      <th>label</th>\n",
       "      <td>3796.0</td>\n",
       "      <td>0.854320</td>\n",
       "      <td>0.698660</td>\n",
       "      <td>0.00</td>\n",
       "      <td>0.00</td>\n",
       "      <td>1.00</td>\n",
       "      <td>1.00</td>\n",
       "      <td>2.00</td>\n",
       "    </tr>\n",
       "  </tbody>\n",
       "</table>\n",
       "</div>"
      ],
      "text/plain": [
       "        count         mean          std    min     25%      50%      75%  \\\n",
       "id     3796.0  1897.500000  1095.955139   0.00  948.75  1897.50  2846.25   \n",
       "v_21   3796.0     4.817439     6.166860   3.00    3.00     3.00     4.00   \n",
       "v_32   3796.0    70.825606    56.110329   6.00    6.00    89.00   116.00   \n",
       "v_15   3796.0    11.609062     2.576362   9.00   10.00    10.00    12.00   \n",
       "v_4    3796.0    99.329294    45.017380   9.00   55.00   101.00   146.00   \n",
       "v_1    3796.0     0.911486     0.284079   0.00    1.00     1.00     1.00   \n",
       "v_8    3796.0     3.436249     4.577644   1.00    1.00     1.00     3.00   \n",
       "v_12   3796.0    18.970495    15.010042  16.00   16.00    16.00    16.00   \n",
       "v_25   3796.0    97.203372    79.213308   1.00    5.00   110.00   181.00   \n",
       "v_20   3796.0   166.138567   103.121322   6.00   60.00   168.00   251.00   \n",
       "v_18   3796.0    57.441254    50.416264   3.00   23.00    30.00   103.00   \n",
       "v_3    3796.0    65.922023    43.698147   5.00   39.00    70.00    87.00   \n",
       "v_11   3796.0     0.466280     0.498927   0.00    0.00     0.00     1.00   \n",
       "v_14   3796.0     0.179399     0.383737   0.00    0.00     0.00     0.00   \n",
       "v_26   3796.0     0.262118     0.439844   0.00    0.00     0.00     1.00   \n",
       "v_27   3796.0     0.731560     0.443206   0.00    0.00     1.00     1.00   \n",
       "v_30   3796.0     0.463646     0.498742   0.00    0.00     0.00     1.00   \n",
       "v_9    3796.0     0.374605     0.484084   0.00    0.00     0.00     1.00   \n",
       "v_31   3796.0    32.134089     7.887596  25.00   27.00    29.00    35.00   \n",
       "v_28   3796.0     0.040569     0.197316   0.00    0.00     0.00     0.00   \n",
       "v_13   3796.0    15.600896     3.216409  14.00   14.00    14.00    16.00   \n",
       "v_33   3796.0    30.127239     3.256676  23.00   29.00    29.00    31.00   \n",
       "v_17   3796.0    50.165701     4.670733  41.00   48.00    49.00    53.00   \n",
       "v_19   3796.0    23.562171     3.757691  18.00   22.00    24.00    25.00   \n",
       "v_29   3796.0    17.162803     5.213275   6.00   17.00    18.00    20.00   \n",
       "v_23   3796.0     3.975764     2.249038   3.00    3.00     3.00     3.00   \n",
       "v_24   3796.0    16.392255     2.866872  15.00   15.00    15.00    16.00   \n",
       "v_10   3796.0    26.064015     3.079682  19.00   25.00    25.00    27.00   \n",
       "v_5    3796.0    39.934932     4.507494  31.00   37.00    39.00    42.00   \n",
       "v_6    3796.0    13.281876     3.674661   8.00   11.00    13.00    15.00   \n",
       "v_22   3796.0    23.794521     5.532030  13.00   24.00    25.00    27.00   \n",
       "v_0    3796.0    12.998156     2.309686  12.00   12.00    12.00    12.00   \n",
       "v_7    3796.0    12.394810     3.414303   7.60    9.40    12.40    14.90   \n",
       "v_2    3796.0     2.041333     2.516779  -0.80    0.50     1.40     2.80   \n",
       "v_16   3796.0     0.835901     3.109413  -4.06   -1.70     0.79     2.02   \n",
       "v_34   3796.0     5.341149     3.507388   0.00    3.00     5.00     8.00   \n",
       "v_35   3796.0    50.674658    29.330820   0.00   25.00    50.00    76.00   \n",
       "v_36   3796.0    26.212065    14.929649   0.00   13.00    26.00    39.00   \n",
       "v_37   3796.0    20.837197    11.984063   0.00   11.00    21.00    31.00   \n",
       "v_38   3796.0    31.276607    17.847942   0.00   16.00    31.00    47.00   \n",
       "v_39   3796.0    40.210485    22.466458   0.00   21.75    41.00    59.00   \n",
       "v_40   3796.0     3.278978     2.618851   0.00    1.00     3.00     5.00   \n",
       "label  3796.0     0.854320     0.698660   0.00    0.00     1.00     1.00   \n",
       "\n",
       "           max  \n",
       "id     3795.00  \n",
       "v_21     61.00  \n",
       "v_32    176.00  \n",
       "v_15     25.00  \n",
       "v_4     176.00  \n",
       "v_1       1.00  \n",
       "v_8      25.00  \n",
       "v_12    179.00  \n",
       "v_25    289.00  \n",
       "v_20    322.00  \n",
       "v_18    324.00  \n",
       "v_3     428.00  \n",
       "v_11      1.00  \n",
       "v_14      1.00  \n",
       "v_26      1.00  \n",
       "v_27      1.00  \n",
       "v_30      1.00  \n",
       "v_9       1.00  \n",
       "v_31     78.00  \n",
       "v_28      1.00  \n",
       "v_13     38.00  \n",
       "v_33     49.00  \n",
       "v_17     86.00  \n",
       "v_19     45.00  \n",
       "v_29     31.00  \n",
       "v_23     17.00  \n",
       "v_24     37.00  \n",
       "v_10     42.00  \n",
       "v_5      64.00  \n",
       "v_6      28.00  \n",
       "v_22     38.00  \n",
       "v_0      26.00  \n",
       "v_7      25.20  \n",
       "v_2      12.70  \n",
       "v_16     12.51  \n",
       "v_34     18.00  \n",
       "v_35    107.00  \n",
       "v_36     58.00  \n",
       "v_37     49.00  \n",
       "v_38     69.00  \n",
       "v_39     87.00  \n",
       "v_40     14.00  \n",
       "label     2.00  "
      ]
     },
     "execution_count": 4,
     "metadata": {},
     "output_type": "execute_result"
    }
   ],
   "source": [
    "df.describe().T"
   ]
  },
  {
   "cell_type": "code",
   "execution_count": 5,
   "id": "27a01485",
   "metadata": {
    "execution": {
     "iopub.execute_input": "2022-08-26T09:19:48.986374Z",
     "iopub.status.busy": "2022-08-26T09:19:48.985692Z",
     "iopub.status.idle": "2022-08-26T09:19:49.008982Z",
     "shell.execute_reply": "2022-08-26T09:19:49.007353Z"
    },
    "papermill": {
     "duration": 0.035325,
     "end_time": "2022-08-26T09:19:49.011504",
     "exception": false,
     "start_time": "2022-08-26T09:19:48.976179",
     "status": "completed"
    },
    "tags": []
   },
   "outputs": [
    {
     "data": {
      "text/html": [
       "<div>\n",
       "<style scoped>\n",
       "    .dataframe tbody tr th:only-of-type {\n",
       "        vertical-align: middle;\n",
       "    }\n",
       "\n",
       "    .dataframe tbody tr th {\n",
       "        vertical-align: top;\n",
       "    }\n",
       "\n",
       "    .dataframe thead th {\n",
       "        text-align: right;\n",
       "    }\n",
       "</style>\n",
       "<table border=\"1\" class=\"dataframe\">\n",
       "  <thead>\n",
       "    <tr style=\"text-align: right;\">\n",
       "      <th></th>\n",
       "      <th>id</th>\n",
       "      <th>v_21</th>\n",
       "      <th>v_32</th>\n",
       "      <th>v_15</th>\n",
       "      <th>v_4</th>\n",
       "      <th>v_1</th>\n",
       "      <th>v_8</th>\n",
       "      <th>v_12</th>\n",
       "      <th>v_25</th>\n",
       "      <th>v_20</th>\n",
       "      <th>...</th>\n",
       "      <th>v_7</th>\n",
       "      <th>v_2</th>\n",
       "      <th>v_16</th>\n",
       "      <th>v_34</th>\n",
       "      <th>v_35</th>\n",
       "      <th>v_36</th>\n",
       "      <th>v_37</th>\n",
       "      <th>v_38</th>\n",
       "      <th>v_39</th>\n",
       "      <th>v_40</th>\n",
       "    </tr>\n",
       "  </thead>\n",
       "  <tbody>\n",
       "    <tr>\n",
       "      <th>0</th>\n",
       "      <td>0</td>\n",
       "      <td>3</td>\n",
       "      <td>6</td>\n",
       "      <td>11</td>\n",
       "      <td>55</td>\n",
       "      <td>1</td>\n",
       "      <td>1</td>\n",
       "      <td>16</td>\n",
       "      <td>5</td>\n",
       "      <td>60</td>\n",
       "      <td>...</td>\n",
       "      <td>13.9</td>\n",
       "      <td>-0.3</td>\n",
       "      <td>0.79</td>\n",
       "      <td>1</td>\n",
       "      <td>93</td>\n",
       "      <td>47</td>\n",
       "      <td>1</td>\n",
       "      <td>48</td>\n",
       "      <td>26</td>\n",
       "      <td>0</td>\n",
       "    </tr>\n",
       "    <tr>\n",
       "      <th>1</th>\n",
       "      <td>1</td>\n",
       "      <td>8</td>\n",
       "      <td>94</td>\n",
       "      <td>12</td>\n",
       "      <td>65</td>\n",
       "      <td>1</td>\n",
       "      <td>4</td>\n",
       "      <td>22</td>\n",
       "      <td>4</td>\n",
       "      <td>173</td>\n",
       "      <td>...</td>\n",
       "      <td>14.9</td>\n",
       "      <td>5.4</td>\n",
       "      <td>6.51</td>\n",
       "      <td>6</td>\n",
       "      <td>29</td>\n",
       "      <td>37</td>\n",
       "      <td>25</td>\n",
       "      <td>53</td>\n",
       "      <td>35</td>\n",
       "      <td>7</td>\n",
       "    </tr>\n",
       "    <tr>\n",
       "      <th>2</th>\n",
       "      <td>2</td>\n",
       "      <td>3</td>\n",
       "      <td>166</td>\n",
       "      <td>10</td>\n",
       "      <td>155</td>\n",
       "      <td>1</td>\n",
       "      <td>1</td>\n",
       "      <td>16</td>\n",
       "      <td>1</td>\n",
       "      <td>309</td>\n",
       "      <td>...</td>\n",
       "      <td>11.1</td>\n",
       "      <td>0.6</td>\n",
       "      <td>2.02</td>\n",
       "      <td>1</td>\n",
       "      <td>8</td>\n",
       "      <td>34</td>\n",
       "      <td>4</td>\n",
       "      <td>43</td>\n",
       "      <td>38</td>\n",
       "      <td>2</td>\n",
       "    </tr>\n",
       "    <tr>\n",
       "      <th>3</th>\n",
       "      <td>3</td>\n",
       "      <td>3</td>\n",
       "      <td>6</td>\n",
       "      <td>13</td>\n",
       "      <td>121</td>\n",
       "      <td>1</td>\n",
       "      <td>1</td>\n",
       "      <td>16</td>\n",
       "      <td>1</td>\n",
       "      <td>6</td>\n",
       "      <td>...</td>\n",
       "      <td>11.1</td>\n",
       "      <td>0.6</td>\n",
       "      <td>2.02</td>\n",
       "      <td>7</td>\n",
       "      <td>37</td>\n",
       "      <td>40</td>\n",
       "      <td>27</td>\n",
       "      <td>43</td>\n",
       "      <td>65</td>\n",
       "      <td>0</td>\n",
       "    </tr>\n",
       "    <tr>\n",
       "      <th>4</th>\n",
       "      <td>4</td>\n",
       "      <td>4</td>\n",
       "      <td>51</td>\n",
       "      <td>18</td>\n",
       "      <td>21</td>\n",
       "      <td>1</td>\n",
       "      <td>17</td>\n",
       "      <td>22</td>\n",
       "      <td>118</td>\n",
       "      <td>168</td>\n",
       "      <td>...</td>\n",
       "      <td>10.9</td>\n",
       "      <td>8.4</td>\n",
       "      <td>12.51</td>\n",
       "      <td>16</td>\n",
       "      <td>22</td>\n",
       "      <td>25</td>\n",
       "      <td>25</td>\n",
       "      <td>24</td>\n",
       "      <td>23</td>\n",
       "      <td>1</td>\n",
       "    </tr>\n",
       "  </tbody>\n",
       "</table>\n",
       "<p>5 rows × 42 columns</p>\n",
       "</div>"
      ],
      "text/plain": [
       "   id  v_21  v_32  v_15  v_4  v_1  v_8  v_12  v_25  v_20  ...   v_7  v_2  \\\n",
       "0   0     3     6    11   55    1    1    16     5    60  ...  13.9 -0.3   \n",
       "1   1     8    94    12   65    1    4    22     4   173  ...  14.9  5.4   \n",
       "2   2     3   166    10  155    1    1    16     1   309  ...  11.1  0.6   \n",
       "3   3     3     6    13  121    1    1    16     1     6  ...  11.1  0.6   \n",
       "4   4     4    51    18   21    1   17    22   118   168  ...  10.9  8.4   \n",
       "\n",
       "    v_16  v_34  v_35  v_36  v_37  v_38  v_39  v_40  \n",
       "0   0.79     1    93    47     1    48    26     0  \n",
       "1   6.51     6    29    37    25    53    35     7  \n",
       "2   2.02     1     8    34     4    43    38     2  \n",
       "3   2.02     7    37    40    27    43    65     0  \n",
       "4  12.51    16    22    25    25    24    23     1  \n",
       "\n",
       "[5 rows x 42 columns]"
      ]
     },
     "execution_count": 5,
     "metadata": {},
     "output_type": "execute_result"
    }
   ],
   "source": [
    "X = df.drop(columns = \"label\")\n",
    "X.head()"
   ]
  },
  {
   "cell_type": "code",
   "execution_count": 6,
   "id": "3ff50885",
   "metadata": {
    "execution": {
     "iopub.execute_input": "2022-08-26T09:19:49.031048Z",
     "iopub.status.busy": "2022-08-26T09:19:49.029866Z",
     "iopub.status.idle": "2022-08-26T09:19:49.039351Z",
     "shell.execute_reply": "2022-08-26T09:19:49.038315Z"
    },
    "papermill": {
     "duration": 0.021685,
     "end_time": "2022-08-26T09:19:49.041752",
     "exception": false,
     "start_time": "2022-08-26T09:19:49.020067",
     "status": "completed"
    },
    "tags": []
   },
   "outputs": [
    {
     "data": {
      "text/plain": [
       "0       1\n",
       "1       2\n",
       "2       1\n",
       "3       1\n",
       "4       1\n",
       "       ..\n",
       "3791    2\n",
       "3792    2\n",
       "3793    0\n",
       "3794    1\n",
       "3795    0\n",
       "Name: label, Length: 3796, dtype: int64"
      ]
     },
     "execution_count": 6,
     "metadata": {},
     "output_type": "execute_result"
    }
   ],
   "source": [
    "y = df[\"label\"]\n",
    "y"
   ]
  },
  {
   "cell_type": "code",
   "execution_count": 7,
   "id": "0de6b151",
   "metadata": {
    "execution": {
     "iopub.execute_input": "2022-08-26T09:19:49.061818Z",
     "iopub.status.busy": "2022-08-26T09:19:49.060966Z",
     "iopub.status.idle": "2022-08-26T09:19:49.068746Z",
     "shell.execute_reply": "2022-08-26T09:19:49.067795Z"
    },
    "papermill": {
     "duration": 0.020596,
     "end_time": "2022-08-26T09:19:49.071099",
     "exception": false,
     "start_time": "2022-08-26T09:19:49.050503",
     "status": "completed"
    },
    "tags": []
   },
   "outputs": [
    {
     "data": {
      "text/plain": [
       "'multiclass'"
      ]
     },
     "execution_count": 7,
     "metadata": {},
     "output_type": "execute_result"
    }
   ],
   "source": [
    "from sklearn.utils.multiclass import type_of_target\n",
    "type_of_target(y)"
   ]
  },
  {
   "cell_type": "code",
   "execution_count": 8,
   "id": "89be0a85",
   "metadata": {
    "execution": {
     "iopub.execute_input": "2022-08-26T09:19:49.090989Z",
     "iopub.status.busy": "2022-08-26T09:19:49.090172Z",
     "iopub.status.idle": "2022-08-26T09:19:49.097639Z",
     "shell.execute_reply": "2022-08-26T09:19:49.095997Z"
    },
    "papermill": {
     "duration": 0.020193,
     "end_time": "2022-08-26T09:19:49.100113",
     "exception": false,
     "start_time": "2022-08-26T09:19:49.079920",
     "status": "completed"
    },
    "tags": []
   },
   "outputs": [
    {
     "name": "stdout",
     "output_type": "stream",
     "text": [
      "Number of labels: 3 \n",
      "Labels: [0 1 2]\n"
     ]
    }
   ],
   "source": [
    "target_names = np.unique(y)\n",
    "print(f'Number of labels: {len(target_names)} \\nLabels: {target_names}')"
   ]
  },
  {
   "cell_type": "code",
   "execution_count": 9,
   "id": "a08c6545",
   "metadata": {
    "execution": {
     "iopub.execute_input": "2022-08-26T09:19:49.119247Z",
     "iopub.status.busy": "2022-08-26T09:19:49.118833Z",
     "iopub.status.idle": "2022-08-26T09:19:49.129077Z",
     "shell.execute_reply": "2022-08-26T09:19:49.127084Z"
    },
    "papermill": {
     "duration": 0.023731,
     "end_time": "2022-08-26T09:19:49.132547",
     "exception": false,
     "start_time": "2022-08-26T09:19:49.108816",
     "status": "completed"
    },
    "tags": []
   },
   "outputs": [
    {
     "name": "stdout",
     "output_type": "stream",
     "text": [
      "Class 0 - 1243 \n",
      "Class 1 - 1863 \n",
      "Class 2 - 690\n"
     ]
    }
   ],
   "source": [
    "label_count = [y.value_counts()[0], y.value_counts()[1], y.value_counts()[2]]\n",
    "print(f'Class 0 - {label_count[0]} \\nClass 1 - {label_count[1]} \\nClass 2 - {label_count[2]}')"
   ]
  },
  {
   "cell_type": "markdown",
   "id": "bad687fb",
   "metadata": {
    "papermill": {
     "duration": 0.008375,
     "end_time": "2022-08-26T09:19:49.149838",
     "exception": false,
     "start_time": "2022-08-26T09:19:49.141463",
     "status": "completed"
    },
    "tags": []
   },
   "source": [
    "1. Class 0 - Dropout \n",
    "\n",
    "2. Class 1 - Enrolled\n",
    "\n",
    "3. Class 2 - Graduate"
   ]
  },
  {
   "cell_type": "code",
   "execution_count": 10,
   "id": "33b7be90",
   "metadata": {
    "execution": {
     "iopub.execute_input": "2022-08-26T09:19:49.170020Z",
     "iopub.status.busy": "2022-08-26T09:19:49.169197Z",
     "iopub.status.idle": "2022-08-26T09:19:49.179539Z",
     "shell.execute_reply": "2022-08-26T09:19:49.178076Z"
    },
    "papermill": {
     "duration": 0.023032,
     "end_time": "2022-08-26T09:19:49.182141",
     "exception": false,
     "start_time": "2022-08-26T09:19:49.159109",
     "status": "completed"
    },
    "tags": []
   },
   "outputs": [
    {
     "name": "stdout",
     "output_type": "stream",
     "text": [
      "Class 0 - 32.74%\n",
      "Class 1 - 49.08%\n",
      "Class 2 - 18.18%\n"
     ]
    }
   ],
   "source": [
    "def calculate_percentage(class_num: int) -> float:\n",
    "    count = y.value_counts()[class_num]\n",
    "    total = 3796\n",
    "    percentage = round((count/total)*100, 2)\n",
    "    return (f\"{percentage}%\")\n",
    "\n",
    "percent_0 = calculate_percentage(0)\n",
    "percent_1 = calculate_percentage(1)\n",
    "percent_2 = calculate_percentage(2)\n",
    "print(\"Class 0 - \" + percent_0, \"Class 1 - \" + percent_1, \"Class 2 - \" + percent_2, sep = \"\\n\")"
   ]
  },
  {
   "cell_type": "code",
   "execution_count": 11,
   "id": "d6e46269",
   "metadata": {
    "execution": {
     "iopub.execute_input": "2022-08-26T09:19:49.202174Z",
     "iopub.status.busy": "2022-08-26T09:19:49.201770Z",
     "iopub.status.idle": "2022-08-26T09:19:49.436613Z",
     "shell.execute_reply": "2022-08-26T09:19:49.435657Z"
    },
    "papermill": {
     "duration": 0.247779,
     "end_time": "2022-08-26T09:19:49.438990",
     "exception": false,
     "start_time": "2022-08-26T09:19:49.191211",
     "status": "completed"
    },
    "tags": []
   },
   "outputs": [
    {
     "data": {
      "text/plain": [
       "<BarContainer object of 3 artists>"
      ]
     },
     "execution_count": 11,
     "metadata": {},
     "output_type": "execute_result"
    },
    {
     "data": {
      "image/png": "[encoded data removed]",
      "text/plain": [
       "<Figure size 432x288 with 1 Axes>"
      ]
     },
     "metadata": {
      "needs_background": "light"
     },
     "output_type": "display_data"
    }
   ],
   "source": [
    "plt.bar(target_names, label_count)"
   ]
  },
  {
   "cell_type": "code",
   "execution_count": 12,
   "id": "700ab519",
   "metadata": {
    "execution": {
     "iopub.execute_input": "2022-08-26T09:19:49.459842Z",
     "iopub.status.busy": "2022-08-26T09:19:49.458653Z",
     "iopub.status.idle": "2022-08-26T09:19:49.911489Z",
     "shell.execute_reply": "2022-08-26T09:19:49.909578Z"
    },
    "papermill": {
     "duration": 0.466035,
     "end_time": "2022-08-26T09:19:49.914329",
     "exception": false,
     "start_time": "2022-08-26T09:19:49.448294",
     "status": "completed"
    },
    "tags": []
   },
   "outputs": [
    {
     "name": "stdout",
     "output_type": "stream",
     "text": [
      "AxesSubplot(0.125,0.125;0.62x0.755)\n"
     ]
    },
    {
     "data": {
      "image/png": "[encoded data removed]",
      "text/plain": [
       "<Figure size 432x288 with 2 Axes>"
      ]
     },
     "metadata": {
      "needs_background": "light"
     },
     "output_type": "display_data"
    }
   ],
   "source": [
    "import seaborn as sns\n",
    "\n",
    "print(sns.heatmap(df.corr()))"
   ]
  },
  {
   "cell_type": "markdown",
   "id": "723e0644",
   "metadata": {},
   "source": [
    "## Train the model"
   ]
  },
  {
   "cell_type": "code",
   "execution_count": 13,
   "id": "27dc40bd",
   "metadata": {
    "execution": {
     "iopub.execute_input": "2022-08-26T09:19:49.936573Z",
     "iopub.status.busy": "2022-08-26T09:19:49.935753Z",
     "iopub.status.idle": "2022-08-26T09:19:49.945637Z",
     "shell.execute_reply": "2022-08-26T09:19:49.944525Z"
    },
    "papermill": {
     "duration": 0.023593,
     "end_time": "2022-08-26T09:19:49.948082",
     "exception": false,
     "start_time": "2022-08-26T09:19:49.924489",
     "status": "completed"
    },
    "tags": []
   },
   "outputs": [],
   "source": [
    "from sklearn.model_selection import train_test_split\n",
    "X_train, X_test, y_train, y_test = train_test_split(X, y, test_size = 0.2,random_state = 10)"
   ]
  },
  {
   "cell_type": "code",
   "execution_count": 14,
   "id": "620b694e",
   "metadata": {
    "execution": {
     "iopub.execute_input": "2022-08-26T09:19:49.969494Z",
     "iopub.status.busy": "2022-08-26T09:19:49.969097Z",
     "iopub.status.idle": "2022-08-26T09:19:49.975636Z",
     "shell.execute_reply": "2022-08-26T09:19:49.974226Z"
    },
    "papermill": {
     "duration": 0.020649,
     "end_time": "2022-08-26T09:19:49.978496",
     "exception": false,
     "start_time": "2022-08-26T09:19:49.957847",
     "status": "completed"
    },
    "tags": []
   },
   "outputs": [
    {
     "name": "stdout",
     "output_type": "stream",
     "text": [
      "Shape of X_train - (3036, 42)\n",
      "Shape of y_train - (3036,) \n",
      "\n",
      "Shape of X_test - (760, 42)\n",
      "Shape of y_test - (760,)\n"
     ]
    }
   ],
   "source": [
    "print(f'Shape of X_train - {X_train.shape}')\n",
    "print(f'Shape of y_train - {y_train.shape} \\n')\n",
    "print(f'Shape of X_test - {X_test.shape}')\n",
    "print(f'Shape of y_test - {y_test.shape}')"
   ]
  },
  {
   "cell_type": "markdown",
   "id": "5c95b07a",
   "metadata": {},
   "source": [
    "### Dummy Classifier - Baseline"
   ]
  },
  {
   "cell_type": "code",
   "execution_count": 15,
   "id": "4d229dc4",
   "metadata": {
    "execution": {
     "iopub.execute_input": "2022-08-26T09:19:50.001229Z",
     "iopub.status.busy": "2022-08-26T09:19:50.000008Z",
     "iopub.status.idle": "2022-08-26T09:19:50.011014Z",
     "shell.execute_reply": "2022-08-26T09:19:50.008882Z"
    },
    "papermill": {
     "duration": 0.026305,
     "end_time": "2022-08-26T09:19:50.014763",
     "exception": false,
     "start_time": "2022-08-26T09:19:49.988458",
     "status": "completed"
    },
    "tags": []
   },
   "outputs": [
    {
     "name": "stdout",
     "output_type": "stream",
     "text": [
      "0.49110671936758893\n",
      "0.48947368421052634\n"
     ]
    }
   ],
   "source": [
    "from sklearn.dummy import DummyClassifier\n",
    "\n",
    "base_clf = DummyClassifier(strategy = \"most_frequent\")\n",
    "base_clf.fit(X_train, y_train)\n",
    "print(base_clf.score(X_train, y_train))\n",
    "print(base_clf.score(X_test, y_test))"
   ]
  },
  {
   "cell_type": "code",
   "execution_count": 16,
   "id": "95b32f74",
   "metadata": {
    "execution": {
     "iopub.execute_input": "2022-08-26T09:19:50.036967Z",
     "iopub.status.busy": "2022-08-26T09:19:50.036156Z",
     "iopub.status.idle": "2022-08-26T09:19:50.051918Z",
     "shell.execute_reply": "2022-08-26T09:19:50.050268Z"
    },
    "papermill": {
     "duration": 0.029776,
     "end_time": "2022-08-26T09:19:50.054634",
     "exception": false,
     "start_time": "2022-08-26T09:19:50.024858",
     "status": "completed"
    },
    "tags": []
   },
   "outputs": [
    {
     "name": "stdout",
     "output_type": "stream",
     "text": [
      "              precision    recall  f1-score   support\n",
      "\n",
      "           0       0.00      0.00      0.00       252\n",
      "           1       0.49      1.00      0.66       372\n",
      "           2       0.00      0.00      0.00       136\n",
      "\n",
      "    accuracy                           0.49       760\n",
      "   macro avg       0.16      0.33      0.22       760\n",
      "weighted avg       0.24      0.49      0.32       760\n",
      "\n",
      "[[  0 252   0]\n",
      " [  0 372   0]\n",
      " [  0 136   0]]\n"
     ]
    }
   ],
   "source": [
    "from sklearn.metrics import classification_report, confusion_matrix\n",
    "y_true = y_test\n",
    "y_pred = base_clf.predict(X_test)\n",
    "print(classification_report(y_true, y_pred, zero_division = 0))\n",
    "print(confusion_matrix(y_true, y_pred))"
   ]
  },
  {
   "cell_type": "code",
   "execution_count": 17,
   "id": "57e2a800",
   "metadata": {
    "execution": {
     "iopub.execute_input": "2022-08-26T09:19:50.076756Z",
     "iopub.status.busy": "2022-08-26T09:19:50.075897Z",
     "iopub.status.idle": "2022-08-26T09:19:50.094430Z",
     "shell.execute_reply": "2022-08-26T09:19:50.093408Z"
    },
    "papermill": {
     "duration": 0.032544,
     "end_time": "2022-08-26T09:19:50.097008",
     "exception": false,
     "start_time": "2022-08-26T09:19:50.064464",
     "status": "completed"
    },
    "tags": []
   },
   "outputs": [],
   "source": [
    "from sklearn.preprocessing import StandardScaler\n",
    "\n",
    "std_scaler = StandardScaler()\n",
    "X_train_scaled = std_scaler.fit_transform(X_train)\n",
    "X_test_scaled = std_scaler.fit_transform(X_test)"
   ]
  },
  {
   "cell_type": "markdown",
   "id": "da0e5194",
   "metadata": {},
   "source": [
    "### Random Forest Classifier"
   ]
  },
  {
   "cell_type": "code",
   "execution_count": 18,
   "id": "06884db4",
   "metadata": {
    "execution": {
     "iopub.execute_input": "2022-08-26T09:19:50.119792Z",
     "iopub.status.busy": "2022-08-26T09:19:50.118320Z",
     "iopub.status.idle": "2022-08-26T09:19:51.053497Z",
     "shell.execute_reply": "2022-08-26T09:19:51.052281Z"
    },
    "papermill": {
     "duration": 0.949437,
     "end_time": "2022-08-26T09:19:51.056371",
     "exception": false,
     "start_time": "2022-08-26T09:19:50.106934",
     "status": "completed"
    },
    "tags": []
   },
   "outputs": [
    {
     "data": {
      "text/plain": [
       "RandomForestClassifier(random_state=10)"
      ]
     },
     "execution_count": 18,
     "metadata": {},
     "output_type": "execute_result"
    }
   ],
   "source": [
    "from sklearn.ensemble import RandomForestClassifier\n",
    "\n",
    "\n",
    "rand_clf = RandomForestClassifier(random_state = 10)\n",
    "rand_clf.fit(X_train_scaled, y_train)"
   ]
  },
  {
   "cell_type": "code",
   "execution_count": 19,
   "id": "37ab8871",
   "metadata": {
    "execution": {
     "iopub.execute_input": "2022-08-26T09:19:51.078511Z",
     "iopub.status.busy": "2022-08-26T09:19:51.077674Z",
     "iopub.status.idle": "2022-08-26T09:19:51.196397Z",
     "shell.execute_reply": "2022-08-26T09:19:51.194728Z"
    },
    "papermill": {
     "duration": 0.133367,
     "end_time": "2022-08-26T09:19:51.199659",
     "exception": false,
     "start_time": "2022-08-26T09:19:51.066292",
     "status": "completed"
    },
    "tags": []
   },
   "outputs": [
    {
     "name": "stdout",
     "output_type": "stream",
     "text": [
      "Training accuracy: 1.0, Testing Accuracy: 0.748684\n"
     ]
    }
   ],
   "source": [
    "train_acc = round(rand_clf.score(X_train_scaled, y_train), 6)\n",
    "test_acc = round(rand_clf.score(X_test_scaled, y_test), 6)\n",
    "\n",
    "print(f'Training accuracy: {train_acc}, Testing Accuracy: {test_acc}')"
   ]
  },
  {
   "cell_type": "code",
   "execution_count": 20,
   "id": "579783a8",
   "metadata": {
    "execution": {
     "iopub.execute_input": "2022-08-26T09:19:51.221693Z",
     "iopub.status.busy": "2022-08-26T09:19:51.221282Z",
     "iopub.status.idle": "2022-08-26T09:19:51.267086Z",
     "shell.execute_reply": "2022-08-26T09:19:51.265797Z"
    },
    "papermill": {
     "duration": 0.06019,
     "end_time": "2022-08-26T09:19:51.270070",
     "exception": false,
     "start_time": "2022-08-26T09:19:51.209880",
     "status": "completed"
    },
    "tags": []
   },
   "outputs": [
    {
     "name": "stdout",
     "output_type": "stream",
     "text": [
      "              precision    recall  f1-score   support\n",
      "\n",
      "           0       0.77      0.77      0.77       252\n",
      "           1       0.76      0.90      0.83       372\n",
      "           2       0.59      0.30      0.40       136\n",
      "\n",
      "    accuracy                           0.75       760\n",
      "   macro avg       0.71      0.66      0.66       760\n",
      "weighted avg       0.73      0.75      0.73       760\n",
      "\n",
      "[[193  45  14]\n",
      " [ 22 335  15]\n",
      " [ 36  59  41]]\n"
     ]
    }
   ],
   "source": [
    "y_true = y_test\n",
    "y_pred = rand_clf.predict(X_test_scaled)\n",
    "print(classification_report(y_true, y_pred, zero_division = 0))\n",
    "print(confusion_matrix(y_true, y_pred))"
   ]
  },
  {
   "cell_type": "markdown",
   "id": "d47a2d41",
   "metadata": {},
   "source": [
    "### Hyperparameter Tuning"
   ]
  },
  {
   "cell_type": "code",
   "execution_count": 21,
   "id": "1d4c8f35",
   "metadata": {
    "execution": {
     "iopub.execute_input": "2022-08-26T09:19:51.292427Z",
     "iopub.status.busy": "2022-08-26T09:19:51.291949Z",
     "iopub.status.idle": "2022-08-26T09:20:07.638493Z",
     "shell.execute_reply": "2022-08-26T09:20:07.637047Z"
    },
    "papermill": {
     "duration": 16.361024,
     "end_time": "2022-08-26T09:20:07.641330",
     "exception": false,
     "start_time": "2022-08-26T09:19:51.280306",
     "status": "completed"
    },
    "tags": []
   },
   "outputs": [
    {
     "data": {
      "text/plain": [
       "{'mean_fit_time': array([0.64070206, 0.64439583, 0.73208103, 0.72402844]),\n",
       " 'std_fit_time': array([0.00688436, 0.02255696, 0.00820528, 0.00702285]),\n",
       " 'mean_score_time': array([0.02646217, 0.02799883, 0.02728791, 0.02637014]),\n",
       " 'std_score_time': array([0.00038837, 0.00269475, 0.00100053, 0.00036906]),\n",
       " 'param_criterion': masked_array(data=['gini', 'gini', 'entropy', 'entropy'],\n",
       "              mask=[False, False, False, False],\n",
       "        fill_value='?',\n",
       "             dtype=object),\n",
       " 'param_min_samples_split': masked_array(data=[3, 4, 3, 4],\n",
       "              mask=[False, False, False, False],\n",
       "        fill_value='?',\n",
       "             dtype=object),\n",
       " 'params': [{'criterion': 'gini', 'min_samples_split': 3},\n",
       "  {'criterion': 'gini', 'min_samples_split': 4},\n",
       "  {'criterion': 'entropy', 'min_samples_split': 3},\n",
       "  {'criterion': 'entropy', 'min_samples_split': 4}],\n",
       " 'split0_test_score': array([0.74013158, 0.74013158, 0.72039474, 0.73190789]),\n",
       " 'split1_test_score': array([0.72981878, 0.73146623, 0.73146623, 0.74135091]),\n",
       " 'split2_test_score': array([0.74135091, 0.74794069, 0.74299835, 0.72981878]),\n",
       " 'split3_test_score': array([0.71334432, 0.71663921, 0.71499176, 0.72487644]),\n",
       " 'split4_test_score': array([0.75617792, 0.74629325, 0.75453048, 0.75617792]),\n",
       " 'mean_test_score': array([0.7361647 , 0.73649419, 0.73287631, 0.73682639]),\n",
       " 'std_test_score': array([0.01417182, 0.01148717, 0.01448443, 0.01105489]),\n",
       " 'rank_test_score': array([3, 2, 4, 1], dtype=int32),\n",
       " 'split0_train_score': array([0.99917628, 0.9946458 , 1.        , 0.99711697]),\n",
       " 'split1_train_score': array([0.99958831, 0.99670646, 1.        , 0.99835323]),\n",
       " 'split2_train_score': array([0.99958831, 0.99711816, 1.        , 0.99917662]),\n",
       " 'split3_train_score': array([0.99958831, 0.9950597 , 1.        , 0.99835323]),\n",
       " 'split4_train_score': array([1.        , 0.9950597 , 0.99958831, 0.99876492]),\n",
       " 'mean_train_score': array([0.99958824, 0.99571796, 0.99991766, 0.99835299]),\n",
       " 'std_train_score': array([0.00026048, 0.00099537, 0.00016468, 0.00068932])}"
      ]
     },
     "execution_count": 21,
     "metadata": {},
     "output_type": "execute_result"
    }
   ],
   "source": [
    "from sklearn.model_selection import GridSearchCV\n",
    "\n",
    "parameters = {'criterion': ['gini', 'entropy'], 'min_samples_split': [3, 4]}\n",
    "rand_clf_2 = GridSearchCV(rand_clf, parameters, return_train_score= True)\n",
    "rand_clf_2.fit(X_train_scaled, y_train)\n",
    "rand_clf_2.cv_results_"
   ]
  },
  {
   "cell_type": "code",
   "execution_count": 22,
   "id": "f84990d0",
   "metadata": {
    "execution": {
     "iopub.execute_input": "2022-08-26T09:20:07.665797Z",
     "iopub.status.busy": "2022-08-26T09:20:07.665335Z",
     "iopub.status.idle": "2022-08-26T09:20:07.672948Z",
     "shell.execute_reply": "2022-08-26T09:20:07.671774Z"
    },
    "papermill": {
     "duration": 0.022024,
     "end_time": "2022-08-26T09:20:07.675284",
     "exception": false,
     "start_time": "2022-08-26T09:20:07.653260",
     "status": "completed"
    },
    "tags": []
   },
   "outputs": [
    {
     "data": {
      "text/plain": [
       "0.7368263894910256"
      ]
     },
     "execution_count": 22,
     "metadata": {},
     "output_type": "execute_result"
    }
   ],
   "source": [
    "rand_clf_2.best_score_"
   ]
  },
  {
   "cell_type": "code",
   "execution_count": 23,
   "id": "130f98ff",
   "metadata": {
    "execution": {
     "iopub.execute_input": "2022-08-26T09:20:07.697754Z",
     "iopub.status.busy": "2022-08-26T09:20:07.697324Z",
     "iopub.status.idle": "2022-08-26T09:20:07.705437Z",
     "shell.execute_reply": "2022-08-26T09:20:07.704085Z"
    },
    "papermill": {
     "duration": 0.022437,
     "end_time": "2022-08-26T09:20:07.708022",
     "exception": false,
     "start_time": "2022-08-26T09:20:07.685585",
     "status": "completed"
    },
    "tags": []
   },
   "outputs": [
    {
     "data": {
      "text/plain": [
       "RandomForestClassifier(criterion='entropy', min_samples_split=4,\n",
       "                       random_state=10)"
      ]
     },
     "execution_count": 23,
     "metadata": {},
     "output_type": "execute_result"
    }
   ],
   "source": [
    "rand_clf_2.best_estimator_"
   ]
  },
  {
   "cell_type": "markdown",
   "id": "57cb0590",
   "metadata": {},
   "source": [
    "### Submit the csv"
   ]
  },
  {
   "cell_type": "code",
   "execution_count": 24,
   "id": "167f44ec",
   "metadata": {
    "execution": {
     "iopub.execute_input": "2022-08-26T09:20:07.731716Z",
     "iopub.status.busy": "2022-08-26T09:20:07.730641Z",
     "iopub.status.idle": "2022-08-26T09:20:07.753482Z",
     "shell.execute_reply": "2022-08-26T09:20:07.752598Z"
    },
    "papermill": {
     "duration": 0.037534,
     "end_time": "2022-08-26T09:20:07.756070",
     "exception": false,
     "start_time": "2022-08-26T09:20:07.718536",
     "status": "completed"
    },
    "tags": []
   },
   "outputs": [],
   "source": [
    "X_test = pd.read_csv(\"/kaggle/input/students-drop-out-prediction/test.csv\")"
   ]
  },
  {
   "cell_type": "code",
   "execution_count": 25,
   "id": "1b2c7187",
   "metadata": {
    "execution": {
     "iopub.execute_input": "2022-08-26T09:20:07.778790Z",
     "iopub.status.busy": "2022-08-26T09:20:07.778343Z",
     "iopub.status.idle": "2022-08-26T09:20:07.789884Z",
     "shell.execute_reply": "2022-08-26T09:20:07.788792Z"
    },
    "papermill": {
     "duration": 0.0259,
     "end_time": "2022-08-26T09:20:07.792357",
     "exception": false,
     "start_time": "2022-08-26T09:20:07.766457",
     "status": "completed"
    },
    "tags": []
   },
   "outputs": [],
   "source": [
    "X_test_scaled = std_scaler.fit_transform(X_test)"
   ]
  },
  {
   "cell_type": "code",
   "execution_count": 26,
   "id": "89342040",
   "metadata": {
    "execution": {
     "iopub.execute_input": "2022-08-26T09:20:07.818147Z",
     "iopub.status.busy": "2022-08-26T09:20:07.817745Z",
     "iopub.status.idle": "2022-08-26T09:20:07.872471Z",
     "shell.execute_reply": "2022-08-26T09:20:07.871168Z"
    },
    "papermill": {
     "duration": 0.072482,
     "end_time": "2022-08-26T09:20:07.875259",
     "exception": false,
     "start_time": "2022-08-26T09:20:07.802777",
     "status": "completed"
    },
    "tags": []
   },
   "outputs": [],
   "source": [
    "prediction = rand_clf_2.predict(X_test_scaled)"
   ]
  },
  {
   "cell_type": "code",
   "execution_count": 27,
   "id": "3ed3395c",
   "metadata": {
    "execution": {
     "iopub.execute_input": "2022-08-26T09:20:07.897829Z",
     "iopub.status.busy": "2022-08-26T09:20:07.897412Z",
     "iopub.status.idle": "2022-08-26T09:20:07.910808Z",
     "shell.execute_reply": "2022-08-26T09:20:07.909785Z"
    },
    "papermill": {
     "duration": 0.027885,
     "end_time": "2022-08-26T09:20:07.913509",
     "exception": false,
     "start_time": "2022-08-26T09:20:07.885624",
     "status": "completed"
    },
    "tags": []
   },
   "outputs": [],
   "source": [
    "X_test['label'] = prediction\n",
    "column_1 = X_test['id'].to_numpy()\n",
    "column_2 = X_test['label'].to_numpy()\n",
    "df = np.column_stack((column_1,column_2))\n",
    "pd.DataFrame(df, columns = ['id','label']).to_csv('sixth_submission.csv',index=False)"
   ]
  }
 ],
 "metadata": {
  "kernelspec": {
   "display_name": "Python 3",
   "language": "python",
   "name": "python3"
  },
  "language_info": {
   "codemirror_mode": {
    "name": "ipython",
    "version": 3
   },
   "file_extension": ".py",
   "mimetype": "text/x-python",
   "name": "python",
   "nbconvert_exporter": "python",
   "pygments_lexer": "ipython3",
   "version": "3.7.12"
  },
  "papermill": {
   "default_parameters": {},
   "duration": 31.685485,
   "end_time": "2022-08-26T09:20:08.747097",
   "environment_variables": {},
   "exception": null,
   "input_path": "__notebook__.ipynb",
   "output_path": "__notebook__.ipynb",
   "parameters": {},
   "start_time": "2022-08-26T09:19:37.061612",
   "version": "2.3.4"
  }
 },
 "nbformat": 4,
 "nbformat_minor": 5
}
